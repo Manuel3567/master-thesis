{
 "cells": [
  {
   "cell_type": "code",
   "execution_count": 6,
   "metadata": {},
   "outputs": [],
   "source": [
    "import numpy as np\n",
    "import scipy.interpolate as spi\n",
    "from scipy.stats import norm\n",
    "from scipy.interpolate import CubicSpline\n",
    "from scipy.interpolate import Akima1DInterpolator"
   ]
  },
  {
   "cell_type": "code",
   "execution_count": 7,
   "metadata": {},
   "outputs": [],
   "source": [
    "# --- Function to calculate hybrid CDF and PDF ---\n",
    "def compute_cdf_pdf_interpolators(quantiles, probabilities, y_min=-30, y_max=30):\n",
    "    \"\"\"\n",
    "    Returns interpolation functions for CDF and PDF using linear, PCHIP, and hybrid methods.\n",
    "\n",
    "    Parameters:\n",
    "    - quantiles: Array of quantiles.\n",
    "    - probabilities: Array of associated probabilities for the quantiles.\n",
    "    - y_min: Minimum x value for extrapolation.\n",
    "    - y_max: Maximum x value for extrapolation.\n",
    "\n",
    "    Returns:\n",
    "    - cdf_linear(x): Linear interpolation CDF function.\n",
    "    - cdf_pchip(x): PCHIP interpolation CDF function.\n",
    "    - hybrid_cdf(x): Hybrid CDF (PCHIP + normal tails).\n",
    "    - pdf_linear(x): Linear interpolation PDF function.\n",
    "    - pdf_pchip(x): PCHIP derivative PDF function.\n",
    "    - pdf_hybrid(x): Hybrid PDF (PCHIP + normal tails).\n",
    "    \"\"\"\n",
    "\n",
    "    # Extend quantile and probability arrays\n",
    "    full_quantiles = np.concatenate(([y_min], quantiles, [y_max]))\n",
    "    full_probabilities = np.concatenate(([0], probabilities, [1]))\n",
    "\n",
    "    # --- Calculate minimum difference between consecutive quantiles ---\n",
    "    delta_quantiles = np.diff(quantiles)\n",
    "    min_delta_quantile = np.min(delta_quantiles)\n",
    "\n",
    "\n",
    "    # --- Fit Normal Distributions for Tails ---\n",
    "    def fit_tail_distribution(quantiles, probabilities):\n",
    "        \"\"\"Fits a normal distribution to the given quantiles and associated probabilities.\"\"\"\n",
    "        z_scores = norm.ppf(probabilities)\n",
    "        sigma = (quantiles[1] - quantiles[0]) / (z_scores[1] - z_scores[0])\n",
    "        mu = quantiles[0] - sigma * z_scores[0]\n",
    "        return mu, sigma\n",
    "\n",
    "    # Fit left and right tails\n",
    "    mu_left, sigma_left = fit_tail_distribution(quantiles[:2], probabilities[:2])\n",
    "    mu_right, sigma_right = fit_tail_distribution(quantiles[-2:], probabilities[-2:])\n",
    "\n",
    "    # --- Define CDF Interpolators ---\n",
    "    cdf_linear_interpolator = spi.interp1d(\n",
    "        full_quantiles, full_probabilities, kind=\"linear\", fill_value=(0, 1), bounds_error=False\n",
    "    )\n",
    "    #cdf_pchip_interpolator = spi.PchipInterpolator(full_quantiles, full_probabilities, extrapolate=True)\n",
    "    #cdf_pchip_interpolator = spi.interp1d(quantiles, probabilities, kind='quadratic', fill_value=(0, 1), bounds_error=False)\n",
    "    cdf_pchip_interpolator = spi.Akima1DInterpolator(full_quantiles, full_probabilities)\n",
    "\n",
    "\n",
    "    def cdf_linear(x):\n",
    "        \"\"\"Linear interpolation CDF function.\"\"\"\n",
    "        return float(np.clip(cdf_linear_interpolator(x), 0, 1))\n",
    "\n",
    "    def cdf_pchip(x):\n",
    "        \"\"\"PCHIP interpolation CDF function.\"\"\"\n",
    "        return float(np.clip(cdf_pchip_interpolator(x), 0, 1))\n",
    "\n",
    "    def hybrid_cdf(x):\n",
    "        \"\"\"\n",
    "        Hybrid CDF:\n",
    "        - Left normal fit for x < first quantile\n",
    "        - PCHIP interpolation for middle range\n",
    "        - Right normal fit for x > last quantile\n",
    "        \"\"\"\n",
    "        if x < quantiles[0]:  # Left tail\n",
    "            return norm.cdf(x, loc=mu_left, scale=sigma_left)\n",
    "        elif x > quantiles[-1]:  # Right tail\n",
    "            return norm.cdf(x, loc=mu_right, scale=sigma_right)\n",
    "        else:  # Middle range (PCHIP interpolation)\n",
    "            return float(np.clip(cdf_pchip_interpolator(x), 0, 1))\n",
    "\n",
    "    # --- Define PDF functions (derivatives of CDFs) ---\n",
    "    def pdf_linear(x):\n",
    "        \"\"\"Approximates PDF using finite differences of the linear CDF.\"\"\"\n",
    "        #eps = eps  # Small step for numerical differentiation\n",
    "        eps = 0.01\n",
    "        return (cdf_linear(x + eps) - cdf_linear(x - eps)) / (2 * eps)\n",
    "\n",
    "    def pdf_linear2(x):\n",
    "        \"\"\"Approximates PDF using finite differences of the linear CDF.\"\"\"\n",
    "        eps = min_delta_quantile/2\n",
    "        return (cdf_linear(x + eps) - cdf_linear(x - eps)) / (2 * eps)\n",
    "    \n",
    "    def pdf_pchip(x):\n",
    "        \"\"\"Approximates PDF using finite differences on the cubic interpolation CDF.\"\"\"\n",
    "        eps = min_delta_quantile/2\n",
    "\n",
    "        return (cdf_pchip_interpolator(x + eps) - cdf_pchip_interpolator(x - eps)) / (2 * eps)\n",
    "        #return cdf_pchip_interpolator.derivative()(x)\n",
    "\n",
    "    def pdf_hybrid(x):\n",
    "        \"\"\"\n",
    "        Hybrid PDF:\n",
    "        - Left normal distribution for x < first quantile\n",
    "        - PCHIP interpolation derivative for middle range\n",
    "        - Right normal distribution for x > last quantile\n",
    "        \"\"\"\n",
    "        if x < quantiles[0]:  # Left tail\n",
    "            return norm.pdf(x, loc=mu_left, scale=sigma_left)\n",
    "        elif x > quantiles[-1]:  # Right tail\n",
    "            return norm.pdf(x, loc=mu_right, scale=sigma_right)\n",
    "        else:  # Middle range (PCHIP interpolation)\n",
    "            return cdf_pchip_interpolator.derivative()(x)\n",
    "\n",
    "    return cdf_linear, cdf_pchip, hybrid_cdf, pdf_linear, pdf_linear2, pdf_pchip, pdf_hybrid\n"
   ]
  },
  {
   "cell_type": "code",
   "execution_count": 8,
   "metadata": {},
   "outputs": [],
   "source": [
    "from scipy.stats import norm\n",
    "from scipy.optimize import curve_fit\n",
    "import numpy as np\n",
    "\n",
    "# Define a function that maps probabilities to normal quantiles\n",
    "def normal_cdf_inverse(p, mu, sigma):\n",
    "    return norm.ppf(p, loc=mu, scale=sigma)\n",
    "\n",
    "def fit_normal_dist_to_quantiles(probabilities, quantiles):\n",
    "    \"\"\" Fits a normal distribution to given quantiles and probabilities. \"\"\"\n",
    "    probabilities = np.asarray(probabilities)\n",
    "    quantiles = np.asarray(quantiles)\n",
    "    \n",
    "    # Debugging: Print inputs\n",
    "    print(\"Probabilities:\", probabilities)\n",
    "    print(\"Quantiles:\", quantiles)\n",
    "    \n",
    "    # Ensure valid inputs\n",
    "    if np.any(np.isnan(probabilities)) or np.any(np.isnan(quantiles)):\n",
    "        raise ValueError(\"Input contains NaN values!\")\n",
    "    \n",
    "    if np.any(np.isinf(probabilities)) or np.any(np.isinf(quantiles)):\n",
    "        raise ValueError(\"Input contains Inf values!\")\n",
    "\n",
    "    # Check if probabilities are within (0,1)\n",
    "    if np.any(probabilities <= 0) or np.any(probabilities >= 1):\n",
    "        raise ValueError(\"Probabilities must be between 0 and 1 (exclusive).\")\n",
    "\n",
    "    # Provide a reasonable initial guess\n",
    "    mu_init = np.mean(quantiles)\n",
    "    sigma_init = (np.max(quantiles) - np.min(quantiles)) / 4  # Rough estimate\n",
    "\n",
    "    try:\n",
    "        params, _ = curve_fit(normal_cdf_inverse, probabilities, quantiles, p0=[mu_init, sigma_init])\n",
    "    except RuntimeError as e:\n",
    "        print(\"Curve fitting failed:\", e)\n",
    "        return None, None\n",
    "\n",
    "    mu_fit, sigma_fit = params\n",
    "    print(f\"Estimated Mean: {mu_fit}, Estimated Std Dev: {sigma_fit}\")\n",
    "    \n",
    "    return mu_fit, sigma_fit"
   ]
  },
  {
   "cell_type": "code",
   "execution_count": 9,
   "metadata": {},
   "outputs": [],
   "source": [
    "import numpy as np\n",
    "import matplotlib.pyplot as plt\n",
    "from scipy.stats import norm\n",
    "\n",
    "def plot_cdf_pdf_dynamic(quantiles, probabilities, y_min, y_max, log_scale=True, eps=0.01, case=1):\n",
    "    \"\"\"Plots the CDF and PDF for linear, Akima1DInterpolator, and hybrid interpolation methods.\"\"\"\n",
    "\n",
    "    # Generate x values for plotting\n",
    "    x_values = np.linspace(y_min - 1, y_max + 1, 200)\n",
    "\n",
    "    # Get CDF and PDF functions\n",
    "    cdf_linear, cdf_pchip, hybrid_cdf, pdf_linear, pdf_linear2, pdf_pchip, pdf_hybrid = compute_cdf_pdf_interpolators(\n",
    "        quantiles, probabilities, y_min, y_max\n",
    "    )\n",
    "\n",
    "    y_min_shift = 1\n",
    "    cdf_linear_m, cdf_pchip_m, hybrid_cdf_m, pdf_linear_m, pdf_linear2_m, pdf_pchip_m, pdf_hybrid_m = compute_cdf_pdf_interpolators(\n",
    "    quantiles, probabilities, y_min - y_min_shift, y_max + y_min_shift\n",
    "    )\n",
    "    \n",
    "    mu, sigma = fit_normal_dist_to_quantiles(probabilities, quantiles)\n",
    "\n",
    "\n",
    "\n",
    "    plt.figure(figsize=(11, 6))\n",
    "    if case == 1:\n",
    "        # Case 1\n",
    "        plt.figure(figsize=(11, 6))\n",
    "        plt.xlim(-1.5, 1.5)\n",
    "        plt.xlabel(\"Value\")\n",
    "        plt.ylabel(\"Cumulative Probability\")\n",
    "        plt.title(\"CDF Estimation of N(0,1) via 9 quantiles with different interpolation methods\")\n",
    "        cdf_values = {\n",
    "            \"Linear Interpolation\": np.array([cdf_linear(x) for x in x_values]),\n",
    "            \"Akima Spline Interpolation\": np.array([cdf_pchip(x) for x in x_values]),\n",
    "            \"True CDF\": norm.cdf(x_values)\n",
    "        }\n",
    "        for label, values in cdf_values.items():\n",
    "            plt.plot(x_values, values, label=label)\n",
    "        plt.scatter(quantiles, probabilities, color='y', marker='o', label=\"Quantiles\")\n",
    "        plt.legend()\n",
    "        plt.grid(True)\n",
    "        plt.show()\n",
    "\n",
    "\n",
    "        plt.figure(figsize=(11, 6))\n",
    "        plt.xlim(-1.4, 1.4)\n",
    "        plt.ylim(0.10, 0.45)\n",
    "        plt.xlabel(\"Value\")\n",
    "        plt.ylabel(\"Probability Density\")\n",
    "        plt.title(\"PDF Estimation of N(0,1) via 9 quantiles with different interpolation methods\")\n",
    "        pdf_values = {\n",
    "            f\"Linear Interpolation epsilon=0.01\": np.array([pdf_linear(x) for x in x_values]),\n",
    "            \"Linear Interpolation epsilon=min_delta_quantile/2\": np.array([pdf_linear2(x) for x in x_values]),\n",
    "            \"Akima Spline Interpolation\": np.array([pdf_pchip(x) for x in x_values]),\n",
    "            \"True PDF\": norm.pdf(x_values, loc=mu, scale=sigma)\n",
    "        }\n",
    "        for label, values in pdf_values.items():\n",
    "            plt.plot(x_values, values, label=label, linestyle=\"--\")\n",
    "        plt.scatter(quantiles, [pdf_linear(q) for q in quantiles], marker='x', label=\"Linear PDF at Quantiles\")\n",
    "        plt.scatter(quantiles, [pdf_pchip(q) for q in quantiles], marker='o', label=\"Akima Spline PDF at Quantiles\", color='g')\n",
    "        plt.legend()\n",
    "        plt.grid(True)\n",
    "        plt.show()\n",
    "\n",
    "    elif case == 2:\n",
    "\n",
    "        plt.figure(figsize=(11, 6))\n",
    "        plt.xlim(-4, 4)\n",
    "        plt.xlabel(\"Value\")\n",
    "        plt.ylabel(\"Cumulative Probability\")\n",
    "        plt.title(\"CDF Estimation of N(0,1) via 9 quantiles with different interpolation methods\")\n",
    "\n",
    "        cdf_values = {\n",
    "            f\"Linear Interpolation, y_min={y_min}\": np.array([cdf_linear(x) for x in x_values]),\n",
    "            f\"Linear Interpolation, y_min={y_min - y_min_shift}\": np.array([cdf_linear_m(x) for x in x_values]),\n",
    "            \"Akima Spline Interpolation\": np.array([cdf_pchip(x) for x in x_values]),\n",
    "            \"Akima Spline + Normal Tails Interpolation\": np.array([hybrid_cdf(x) for x in x_values]),\n",
    "            \"True CDF\": norm.cdf(x_values)\n",
    "        }\n",
    "\n",
    "        for label, values in cdf_values.items():\n",
    "            plt.plot(x_values, values, label=label)\n",
    "        \n",
    "        plt.scatter(quantiles, probabilities, color='y', marker='o', label=\"Quantiles\")\n",
    "        plt.legend()\n",
    "        plt.grid(True)\n",
    "        plt.show()\n",
    "\n",
    "        pdf_values = {\n",
    "        f\"Linear Interpolation epsilon=0.01, y_min={y_min}\": np.array([pdf_linear(x) for x in x_values]),\n",
    "        f\"Linear Interpolation epsilon=0.01, y_min={y_min - y_min_shift}\": np.array([pdf_linear_m(x) for x in x_values]),\n",
    "        \"True PDF\": norm.pdf(x_values, loc=mu, scale=sigma)\n",
    "        }\n",
    "        \n",
    "        plt.figure(figsize=(11, 6))\n",
    "        plt.xlabel(\"Value\")\n",
    "        plt.ylabel(\"Probability Density\")\n",
    "\n",
    "        plt.title(\"PDF Estimation of N(0,1) via 9 quantiles with different interpolation methods\")\n",
    "\n",
    "        for label, values in pdf_values.items():\n",
    "            plt.plot(x_values, values, label=label, linestyle=\"--\")\n",
    "        plt.scatter(quantiles, [pdf_linear(q) for q in quantiles], color='r', marker='x', label=\"Linear PDF at Quantiles\")\n",
    "        plt.legend()\n",
    "        plt.grid(True)\n",
    "        plt.show()\n",
    "\n",
    "    elif case == 3:\n",
    "        # Case 3\n",
    "        plt.figure(figsize=(11, 6))\n",
    "        plt.xlim(-4.5, 4.5)\n",
    "        plt.xlabel(\"Value\")\n",
    "        plt.ylabel(\"Probability Density\")\n",
    "        plt.title(\"PDF Estimation of N(0,1) via 9 quantiles with different interpolation methods\")\n",
    "\n",
    "        pdf_values = {\n",
    "        \"Akima Spline Interpolation\": np.array([pdf_pchip(x) for x in x_values]),\n",
    "        \"Akima Spline + Normal Tails Interpolation\": np.array([pdf_hybrid(x) for x in x_values]),\n",
    "        \"True PDF\": norm.pdf(x_values, loc=mu, scale=sigma)\n",
    "        }\n",
    "\n",
    "        for label, values in pdf_values.items():\n",
    "            plt.plot(x_values, values, label=label)\n",
    "\n",
    "        plt.scatter(quantiles, [pdf_hybrid(q) for q in quantiles], color='r', marker='x', label=\"Akima spline + normal tails pdf at quantiles\")\n",
    "\n",
    "        plt.legend()\n",
    "        plt.grid(True)\n",
    "        plt.show()\n"
   ]
  },
  {
   "cell_type": "code",
   "execution_count": 181,
   "metadata": {},
   "outputs": [
    {
     "name": "stdout",
     "output_type": "stream",
     "text": [
      "Probabilities: [0.1 0.2 0.3 0.4 0.5 0.6 0.7 0.8 0.9]\n",
      "Quantiles: [-1.28155157 -0.84162123 -0.52440051 -0.2533471   0.          0.2533471\n",
      "  0.52440051  0.84162123  1.28155157]\n",
      "Estimated Mean: -3.0819390988122016e-33, Estimated Std Dev: 1.0\n"
     ]
    },
    {
     "data": {
      "text/plain": [
       "<Figure size 1100x600 with 0 Axes>"
      ]
     },
     "metadata": {},
     "output_type": "display_data"
    },
    {
     "data": {
      "image/png": "[encoded data removed]",
      "text/plain": [
       "<Figure size 1100x600 with 1 Axes>"
      ]
     },
     "metadata": {},
     "output_type": "display_data"
    }
   ],
   "source": [
    "plot_cdf_pdf_dynamic(quantiles, probabilities, -3, 3, log_scale=False, case=3)"
   ]
  },
  {
   "cell_type": "code",
   "execution_count": 10,
   "metadata": {},
   "outputs": [],
   "source": [
    "from scipy.integrate import quad\n",
    "\n",
    "def evaluate(quantiles, probabilities, y, y_min, y_max):\n",
    "\n",
    "    cdf_linear, cdf_pchip, hybrid_cdf, pdf_linear, pdf_linear2, pdf_pchip, pdf_hybrid = compute_cdf_pdf_interpolators(\n",
    "        quantiles, probabilities, y_min, y_max\n",
    "    )\n",
    "    cdfs = [cdf_linear, cdf_pchip, hybrid_cdf]\n",
    "    pdfs = [pdf_linear, pdf_linear2, pdf_pchip, pdf_hybrid]\n",
    "\n",
    "    crps = []\n",
    "    nlls = []\n",
    "\n",
    "    for cdf in cdfs:\n",
    "        integrand = lambda x: (cdf(x) - (x >= y))**2\n",
    "        crps_value, _ = quad(integrand, y_min, y_max)\n",
    "        crps.append(crps_value)\n",
    "\n",
    "    for pdf in pdfs:\n",
    "        pdf_value = pdf(y)\n",
    "        negative_log_pdf = - np.log(pdf_value)\n",
    "        nlls.append(negative_log_pdf)\n",
    "    \n",
    "    return (\n",
    "        ('crps_cdf_linear', crps[0]),\n",
    "        ('crps_cdf_pchip', crps[1]),\n",
    "        ('crps_hybrid_cdf', crps[2]),\n",
    "        ('nll_pdf_linear (eps = 0.01)', nlls[0]),\n",
    "        ('nll_pdf_linear2 (eps = min_delta_quantile/2)', nlls[1]),\n",
    "        ('nll_pdf_pchip', nlls[2]),\n",
    "        ('nll_pdf_hybrid', nlls[3]),\n",
    "    )\n",
    "    "
   ]
  },
  {
   "cell_type": "code",
   "execution_count": 11,
   "metadata": {},
   "outputs": [
    {
     "name": "stderr",
     "output_type": "stream",
     "text": [
      "C:\\Users\\Manuel\\AppData\\Local\\Temp\\ipykernel_11188\\862996740.py:16: IntegrationWarning: The maximum number of subdivisions (50) has been achieved.\n",
      "  If increasing the limit yields no improvement it is advised to analyze \n",
      "  the integrand in order to determine the difficulties.  If the position of a \n",
      "  local difficulty can be determined (singularity, discontinuity) one will \n",
      "  probably gain from splitting up the interval and calling the integrator \n",
      "  on the subranges.  Perhaps a special-purpose integrator should be used.\n",
      "  crps_value, _ = quad(integrand, y_min, y_max)\n"
     ]
    },
    {
     "data": {
      "text/plain": [
       "(('crps_cdf_linear', 1.8764192382545373),\n",
       " ('crps_cdf_pchip', 1.9508986356133764),\n",
       " ('crps_hybrid_cdf', 1.9401850423853335),\n",
       " ('nll_pdf_linear (eps = 0.01)', 2.8440069037156945),\n",
       " ('nll_pdf_linear2 (eps = min_delta_quantile/2)', 2.8440069037156697),\n",
       " ('nll_pdf_pchip', 4.252659642360903),\n",
       " ('nll_pdf_hybrid', 4.043938533204672))"
      ]
     },
     "execution_count": 11,
     "metadata": {},
     "output_type": "execute_result"
    }
   ],
   "source": [
    "probabilities = [0.1, 0.2, 0.3, 0.4, 0.5, 0.6, 0.7, 0.8, 0.9]\n",
    "quantiles = norm.ppf(probabilities)\n",
    "y_min = -3\n",
    "y_max = 3\n",
    "\n",
    "evaluate(quantiles, probabilities, -2.5, y_min, y_max)"
   ]
  },
  {
   "cell_type": "code",
   "execution_count": 12,
   "metadata": {},
   "outputs": [
    {
     "name": "stderr",
     "output_type": "stream",
     "text": [
      "C:\\Users\\Manuel\\AppData\\Local\\Temp\\ipykernel_11188\\862996740.py:16: IntegrationWarning: The maximum number of subdivisions (50) has been achieved.\n",
      "  If increasing the limit yields no improvement it is advised to analyze \n",
      "  the integrand in order to determine the difficulties.  If the position of a \n",
      "  local difficulty can be determined (singularity, discontinuity) one will \n",
      "  probably gain from splitting up the interval and calling the integrator \n",
      "  on the subranges.  Perhaps a special-purpose integrator should be used.\n",
      "  crps_value, _ = quad(integrand, y_min, y_max)\n"
     ]
    },
    {
     "data": {
      "text/plain": [
       "(('crps_cdf_linear', 1.8513057400122044),\n",
       " ('crps_cdf_pchip', 1.957475651969754),\n",
       " ('crps_hybrid_cdf', 1.9402651980596015),\n",
       " ('nll_pdf_linear (eps = 0.01)', 3.302646382036681),\n",
       " ('nll_pdf_linear2 (eps = min_delta_quantile/2)', 3.3026463820366674),\n",
       " ('nll_pdf_pchip', 3.217538091995092),\n",
       " ('nll_pdf_hybrid', 4.043938533204672))"
      ]
     },
     "execution_count": 12,
     "metadata": {},
     "output_type": "execute_result"
    }
   ],
   "source": [
    "y_min = -4\n",
    "y_max = 4\n",
    "evaluate(quantiles, probabilities, -2.5, y_min, y_max)"
   ]
  },
  {
   "cell_type": "code",
   "execution_count": 17,
   "metadata": {},
   "outputs": [
    {
     "name": "stderr",
     "output_type": "stream",
     "text": [
      "C:\\Users\\Manuel\\AppData\\Local\\Temp\\ipykernel_11188\\862996740.py:16: IntegrationWarning: The maximum number of subdivisions (50) has been achieved.\n",
      "  If increasing the limit yields no improvement it is advised to analyze \n",
      "  the integrand in order to determine the difficulties.  If the position of a \n",
      "  local difficulty can be determined (singularity, discontinuity) one will \n",
      "  probably gain from splitting up the interval and calling the integrator \n",
      "  on the subranges.  Perhaps a special-purpose integrator should be used.\n",
      "  crps_value, _ = quad(integrand, y_min, y_max)\n"
     ]
    },
    {
     "data": {
      "text/plain": [
       "(('crps_cdf_linear', 0.6240623572361473),\n",
       " ('crps_cdf_pchip', 0.607558873439249),\n",
       " ('crps_hybrid_cdf', 0.608802841023876),\n",
       " ('nll_pdf_linear (eps = 0.01)', 3.920484109121023),\n",
       " ('nll_pdf_linear2 (eps = min_delta_quantile/2)', 2.203519999024279),\n",
       " ('nll_pdf_pchip', 0.9871778199039151),\n",
       " ('nll_pdf_hybrid', 1.2475395254789359))"
      ]
     },
     "execution_count": 17,
     "metadata": {},
     "output_type": "execute_result"
    }
   ],
   "source": [
    "import numpy as np\n",
    "quantiles_2 = np.array([-3.302027, -2.657532, -2.326192, -2.163070, -1.983908, -1.761671, -1.496187, -1.286693, -1.028827])\n",
    "quantiles_3 = np.array([-3.295995, -2.666942, -2.325560, -2.164748, -1.986944, -1.763564, -1.498355, -1.278293, -1.031841])\n",
    "quantiles_4 = np.array([-3.289948, -2.672929, -2.321413, -2.163413, -1.990395, -1.773206, -1.510069, -1.285333, -1.042485])\n",
    "probabilities = np.array([0.1, 0.2, 0.3, 0.4, 0.5, 0.6, 0.7, 0.8, 0.9])\n",
    "\n",
    "evaluate(quantiles_4, probabilities, -1, y_min, y_max)"
   ]
  },
  {
   "cell_type": "markdown",
   "metadata": {},
   "source": [
    "# Cross check the crps and nll calculation based on a known distribution (normal)"
   ]
  },
  {
   "cell_type": "code",
   "execution_count": null,
   "metadata": {},
   "outputs": [
    {
     "name": "stderr",
     "output_type": "stream",
     "text": [
      "C:\\Users\\Manuel\\AppData\\Local\\Temp\\ipykernel_11188\\862996740.py:16: IntegrationWarning: The maximum number of subdivisions (50) has been achieved.\n",
      "  If increasing the limit yields no improvement it is advised to analyze \n",
      "  the integrand in order to determine the difficulties.  If the position of a \n",
      "  local difficulty can be determined (singularity, discontinuity) one will \n",
      "  probably gain from splitting up the interval and calling the integrator \n",
      "  on the subranges.  Perhaps a special-purpose integrator should be used.\n",
      "  crps_value, _ = quad(integrand, y_min, y_max)\n",
      "C:\\Users\\Manuel\\AppData\\Local\\Temp\\ipykernel_11188\\862996740.py:16: IntegrationWarning: The occurrence of roundoff error is detected, which prevents \n",
      "  the requested tolerance from being achieved.  The error may be \n",
      "  underestimated.\n",
      "  crps_value, _ = quad(integrand, y_min, y_max)\n"
     ]
    }
   ],
   "source": [
    "import pandas as pd\n",
    "mu = 2\n",
    "sigma = 1.5\n",
    "y_min = mu - 7*sigma\n",
    "y_max = mu + 7*sigma\n",
    "probabilities = [0.1, 0.2, 0.3, 0.4, 0.5, 0.6, 0.7, 0.8, 0.9]\n",
    "quantiles = norm.ppf(probabilities, loc=mu, scale=sigma)\n",
    "\n",
    "y_values = [-4, -2, 0, 2, 4]\n",
    "\n",
    "results_list = []\n",
    "\n",
    "for y in y_values:\n",
    "    z = (y - mu) / sigma\n",
    "    crps_true = sigma * (z * (2 * norm.cdf(z) - 1) + 2 * norm.pdf(z) - 1 / np.sqrt(np.pi))\n",
    "    nll_true = -norm.logpdf(y, scale=sigma, loc=mu)\n",
    "\n",
    "    evaluate_results = evaluate(quantiles, probabilities, y, y_min, y_max)\n",
    "    evaluate_dict = dict(evaluate_results)\n",
    "\n",
    "    results_list.append({\n",
    "        \"y\": y,\n",
    "        \"CRPS (Analytical)\": crps_true,\n",
    "        \"CRPS (CDF Linear)\": evaluate_dict[\"crps_cdf_linear\"],\n",
    "        \"CRPS (CDF PCHIP, cubic interpolation)\": evaluate_dict[\"crps_cdf_pchip\"],\n",
    "        \"CRPS (Hybrid CDF)\": evaluate_dict[\"crps_hybrid_cdf\"],\n",
    "        \"NLL (Analytical)\": nll_true,\n",
    "        \"NLL (PDF Linear, eps = 0.01)\": evaluate_dict[\"nll_pdf_linear (eps = 0.01)\"],\n",
    "        \"NLL (PDF Linear2, eps = min_delta_quantile/2)\": evaluate_dict[\"nll_pdf_linear2 (eps = min_delta_quantile/2)\"],\n",
    "        \"NLL (PDF PCHIP)\": evaluate_dict[\"nll_pdf_pchip\"],\n",
    "        \"NLL (PDF Hybrid)\": evaluate_dict[\"nll_pdf_hybrid\"]\n",
    "    })\n",
    "\n",
    "results = pd.DataFrame(results_list)\n",
    "\n",
    "results.to_excel(\"../results/TabPFN/true_crps_nll_vs_interpolated.xlsx\", index=False)\n",
    "\n"
   ]
  },
  {
   "cell_type": "code",
   "execution_count": null,
   "metadata": {},
   "outputs": [],
   "source": []
  },
  {
   "cell_type": "code",
   "execution_count": null,
   "metadata": {},
   "outputs": [],
   "source": []
  },
  {
   "cell_type": "code",
   "execution_count": null,
   "metadata": {},
   "outputs": [],
   "source": []
  },
  {
   "cell_type": "markdown",
   "metadata": {},
   "source": [
    "# Old"
   ]
  },
  {
   "cell_type": "code",
   "execution_count": null,
   "metadata": {},
   "outputs": [],
   "source": [
    "import numpy as np\n",
    "import matplotlib.pyplot as plt\n",
    "from scipy.stats import norm\n",
    "\n",
    "def plot_cdf_pdf(quantiles, probabilities, y_min, y_max, log_scale=True, eps=0.01, tail=False):\n",
    "    \"\"\"Plots the CDF and PDF for linear, Akima1DInterpolator, and hybrid interpolation methods.\"\"\"\n",
    "\n",
    "    # Generate x values for plotting\n",
    "    x_values = np.linspace(y_min - 1, y_max + 1, 200)\n",
    "\n",
    "    # Get CDF and PDF functions\n",
    "    cdf_linear, cdf_pchip, hybrid_cdf, pdf_linear, pdf_linear2, pdf_pchip, pdf_hybrid = compute_cdf_pdf_interpolators(\n",
    "        quantiles, probabilities, y_min, y_max\n",
    "    )\n",
    "\n",
    "    y_min_shift = 1\n",
    "    cdf_linear_m, cdf_pchip_m, hybrid_cdf_m, pdf_linear_m, pdf_linear2_m, pdf_pchip_m, pdf_hybrid_m = compute_cdf_pdf_interpolators(\n",
    "    quantiles, probabilities, y_min - y_min_shift, y_max + y_min_shift\n",
    "    )\n",
    "    \n",
    "    mu, sigma = fit_normal_dist_to_quantiles(probabilities, quantiles)\n",
    "\n",
    "\n",
    "    # Compute CDF and PDF values\n",
    "    cdf_values = {\n",
    "        f\"Linear Interpolation, y_min={y_min}\": np.array([cdf_linear(x) for x in x_values]),\n",
    "        f\"Linear Interpolation, y_min={y_min - y_min_shift}\": np.array([cdf_linear_m(x) for x in x_values]),\n",
    "        \"Akima Spline Interpolation\": np.array([cdf_pchip(x) for x in x_values]),\n",
    "        \"Akima Spline + Normal Tails Interpolation\": np.array([hybrid_cdf(x) for x in x_values]),\n",
    "        \"True CDF\": norm.cdf(x_values)\n",
    "    }\n",
    "    # Vectorized evaluation of CDFs and PDFs\n",
    "    #cdf_values_linear = np.array([cdf_linear(x) for x in x_values])\n",
    "    #cdf_values_pchip = np.array([cdf_pchip(x) for x in x_values])\n",
    "    #cdf_values_hybrid = np.array([hybrid_cdf(x) for x in x_values])\n",
    "    #cdf_values_linear_m = np.array([cdf_linear_m(x) for x in x_values])\n",
    "\n",
    "\n",
    "    selected_keys_temp = {\n",
    "        f\"Linear Interpolation\": np.array([cdf_linear(x) for x in x_values]),\n",
    "        \"Akima Spline Interpolation\": np.array([cdf_pchip(x) for x in x_values]),\n",
    "        \"True CDF\": norm.cdf(x_values)\n",
    "    }\n",
    "\n",
    "    pdf_values = {\n",
    "    f\"Linear Interpolation epsilon=0.01, y_min={y_min}\": np.array([pdf_linear(x) for x in x_values]),\n",
    "    f\"Linear Interpolation epsilon=0.01, y_min={y_min - y_min_shift}\": np.array([pdf_linear_m(x) for x in x_values]),\n",
    "    \"Linear Interpolation epsilon=min_delta_quantile/2\": np.array([pdf_linear2(x) for x in x_values]),\n",
    "    \"Akima Spline Interpolation\": np.array([pdf_pchip(x) for x in x_values]),\n",
    "    \"Akima Spline + Normal Tails Interpolation\": np.array([pdf_hybrid(x) for x in x_values]),\n",
    "    \"True PDF\": norm.pdf(x_values, loc=mu, scale=sigma)\n",
    "    }\n",
    "    #pdf_values_linear = np.array([pdf_linear(x) for x in x_values])\n",
    "    #pdf_values_linear2 = np.array([pdf_linear2(x) for x in x_values])\n",
    "    #pdf_values_linear_m = np.array([pdf_linear_m(x) for x in x_values])\n",
    "    #pdf_values_pchip = np.array([pdf_pchip(x) for x in x_values])\n",
    "    #pdf_values_hybrid = np.array([pdf_hybrid(x) for x in x_values])\n",
    "\n",
    "\n",
    "    # --- Plot CDFs ---\n",
    "    plt.figure(figsize=(11, 6))\n",
    "    #for label, values in cdf_values.items():\n",
    "    #    plt.plot(x_values, values, label=label)\n",
    "    #plt.scatter(quantiles, probabilities, color='y', marker='o', label=\"Quantiles\")\n",
    "\n",
    "\n",
    "    for label, values in selected_keys_temp.items():\n",
    "        plt.plot(x_values, values, label=label)\n",
    "    plt.scatter(quantiles, probabilities, color='y', marker='o', label=\"Quantiles\")\n",
    "    \n",
    "    plt.xlabel(\"Value\")\n",
    "    plt.ylabel(\"Cumulative Probability\")\n",
    "    plt.title(\"CDF Estimation of N(0,1) via 9 quantiles with different interpolation methods\")\n",
    "    plt.legend()\n",
    "    plt.grid(True)\n",
    "    #plt.xlim(x_values[0], x_values[-1])\n",
    "    plt.xlim(-1.5, 1.5)\n",
    "    plt.show()\n",
    "\n",
    "\n",
    "    # --- Plot PDFs ---\n",
    "    # Define the keys you want to select\n",
    "    selected_keys_tail = [\n",
    "        f\"Linear Interpolation epsilon=0.01, y_min={y_min}\",\n",
    "        f\"Linear Interpolation epsilon=0.01, y_min={y_min - y_min_shift}\",\n",
    "        \"Akima Spline Interpolation\",\n",
    "        \"Akima Spline + Normal Tails Interpolation\",\n",
    "        \"True PDF\"\n",
    "    ]\n",
    "\n",
    "    selected_keys_not_tails = [\n",
    "        f\"Linear Interpolation epsilon=0.01\",\n",
    "        \"Linear Interpolation epsilon=min_delta_quantile/2\",\n",
    "        \"Akima Spline Interpolation\",\n",
    "    ]\n",
    "\n",
    "    plt.figure(figsize=(11, 6))\n",
    "    \n",
    "    for label, values in pdf_values.items():\n",
    "        if tail:\n",
    "            if label in selected_keys_tail:  # Only plot these when tail is True\n",
    "                if label in (\"Akima Spline Interpolation\", \"Akima Spline + Normal Tails Interpolation\"):\n",
    "                    plt.plot(x_values, values, label=label, linestyle=\"-\")\n",
    "                else:\n",
    "                    plt.plot(x_values, values, label=label, linestyle=\"--\")\n",
    "        else:\n",
    "            plt.xlim(-1.5, 1.5)\n",
    "            plt.ylim(0.10, 0.45)\n",
    "            if label in selected_keys_not_tails:\n",
    "                if label in (\"Akima Spline Interpolation\", \"Akima Spline + Normal Tails Interpolation\"):\n",
    "                    plt.plot(x_values, values, label=label, linestyle=\"--\", linewidth=1)\n",
    "                else:\n",
    "                    plt.plot(x_values, values, label=label, linestyle=\"--\", linewidth=1)\n",
    "\n",
    "    for label, values in selected_keys_not_tails.items():\n",
    "        if tail:\n",
    "            if label in selected_keys_tail:  # Only plot these when tail is True\n",
    "                if label in (\"Akima Spline Interpolation\", \"Akima Spline + Normal Tails Interpolation\"):\n",
    "                    plt.plot(x_values, values, label=label, linestyle=\"-\")\n",
    "                else:\n",
    "                    plt.plot(x_values, values, label=label, linestyle=\"--\")\n",
    "\n",
    "\n",
    "\n",
    "\n",
    "    plt.scatter(quantiles, [pdf_pchip(q) for q in quantiles], color='r', marker='x', label=\"Akima Spline PDF at Quantiles\")\n",
    "    \n",
    "    plt.xlabel(\"Value\")\n",
    "    plt.title(\"PDF Estimation of N(0,1) via 9 quantiles with different interpolation methods\")\n",
    "    #plt.legend(loc=\"upper left\", fontsize=12, bbox_to_anchor=(1.15, 1.0))\n",
    "    plt.legend(loc=\"lower center\", fontsize=9)\n",
    "\n",
    "    plt.grid(True)\n",
    "    #plt.xlim(x_values[0], x_values[-1])\n",
    "    \n",
    "    if log_scale:\n",
    "        plt.yscale(\"log\")\n",
    "        plt.ylim(1e-3, 1)\n",
    "        plt.ylabel(\"Probability Density (log scale)\")\n",
    "    else:\n",
    "        plt.ylabel(\"Probability Density\")\n",
    "\n",
    "    plt.show()\n"
   ]
  },
  {
   "cell_type": "code",
   "execution_count": 105,
   "metadata": {},
   "outputs": [
    {
     "name": "stdout",
     "output_type": "stream",
     "text": [
      "Probabilities: [0.1 0.2 0.3 0.4 0.5 0.6 0.7 0.8 0.9]\n",
      "Quantiles: [-1.28155157 -0.84162123 -0.52440051 -0.2533471   0.          0.2533471\n",
      "  0.52440051  0.84162123  1.28155157]\n",
      "Estimated Mean: -3.0819390988122016e-33, Estimated Std Dev: 1.0\n"
     ]
    },
    {
     "data": {
      "image/png": "[encoded data removed]",
      "text/plain": [
       "<Figure size 1100x600 with 1 Axes>"
      ]
     },
     "metadata": {},
     "output_type": "display_data"
    },
    {
     "ename": "AttributeError",
     "evalue": "'list' object has no attribute 'items'",
     "output_type": "error",
     "traceback": [
      "\u001b[1;31m---------------------------------------------------------------------------\u001b[0m",
      "\u001b[1;31mAttributeError\u001b[0m                            Traceback (most recent call last)",
      "Cell \u001b[1;32mIn[105], line 7\u001b[0m\n\u001b[0;32m      4\u001b[0m probabilities \u001b[38;5;241m=\u001b[39m [\u001b[38;5;241m0.1\u001b[39m, \u001b[38;5;241m0.2\u001b[39m, \u001b[38;5;241m0.3\u001b[39m, \u001b[38;5;241m0.4\u001b[39m, \u001b[38;5;241m0.5\u001b[39m, \u001b[38;5;241m0.6\u001b[39m, \u001b[38;5;241m0.7\u001b[39m, \u001b[38;5;241m0.8\u001b[39m, \u001b[38;5;241m0.9\u001b[39m]\n\u001b[0;32m      5\u001b[0m quantiles \u001b[38;5;241m=\u001b[39m norm\u001b[38;5;241m.\u001b[39mppf(probabilities)\n\u001b[1;32m----> 7\u001b[0m \u001b[43mplot_cdf_pdf\u001b[49m\u001b[43m(\u001b[49m\u001b[43mquantiles\u001b[49m\u001b[43m,\u001b[49m\u001b[43m \u001b[49m\u001b[43mprobabilities\u001b[49m\u001b[43m,\u001b[49m\u001b[43m \u001b[49m\u001b[43my_min\u001b[49m\u001b[38;5;241;43m=\u001b[39;49m\u001b[38;5;241;43m-\u001b[39;49m\u001b[38;5;241;43m3\u001b[39;49m\u001b[43m,\u001b[49m\u001b[43m \u001b[49m\u001b[43my_max\u001b[49m\u001b[38;5;241;43m=\u001b[39;49m\u001b[38;5;241;43m3\u001b[39;49m\u001b[43m,\u001b[49m\u001b[43m \u001b[49m\u001b[43mlog_scale\u001b[49m\u001b[38;5;241;43m=\u001b[39;49m\u001b[38;5;28;43;01mFalse\u001b[39;49;00m\u001b[43m,\u001b[49m\u001b[43m \u001b[49m\u001b[43mtail\u001b[49m\u001b[38;5;241;43m=\u001b[39;49m\u001b[38;5;28;43;01mFalse\u001b[39;49;00m\u001b[43m)\u001b[49m\n",
      "Cell \u001b[1;32mIn[104], line 115\u001b[0m, in \u001b[0;36mplot_cdf_pdf\u001b[1;34m(quantiles, probabilities, y_min, y_max, log_scale, eps, tail)\u001b[0m\n\u001b[0;32m     97\u001b[0m plt\u001b[38;5;241m.\u001b[39mfigure(figsize\u001b[38;5;241m=\u001b[39m(\u001b[38;5;241m11\u001b[39m, \u001b[38;5;241m6\u001b[39m))\n\u001b[0;32m     99\u001b[0m \u001b[38;5;66;03m#for label, values in pdf_values.items():\u001b[39;00m\n\u001b[0;32m    100\u001b[0m \u001b[38;5;66;03m#    if tail:\u001b[39;00m\n\u001b[0;32m    101\u001b[0m \u001b[38;5;66;03m#        if label in selected_keys_tail:  # Only plot these when tail is True\u001b[39;00m\n\u001b[1;32m   (...)\u001b[0m\n\u001b[0;32m    112\u001b[0m \u001b[38;5;66;03m#            else:\u001b[39;00m\n\u001b[0;32m    113\u001b[0m \u001b[38;5;66;03m#                plt.plot(x_values, values, label=label, linestyle=\"--\", linewidth=1)\u001b[39;00m\n\u001b[1;32m--> 115\u001b[0m \u001b[38;5;28;01mfor\u001b[39;00m label, values \u001b[38;5;129;01min\u001b[39;00m \u001b[43mselected_keys_not_tails\u001b[49m\u001b[38;5;241;43m.\u001b[39;49m\u001b[43mitems\u001b[49m():\n\u001b[0;32m    116\u001b[0m     plt\u001b[38;5;241m.\u001b[39mplot(x_values, values, label\u001b[38;5;241m=\u001b[39mlabel, linestyle\u001b[38;5;241m=\u001b[39m\u001b[38;5;124m\"\u001b[39m\u001b[38;5;124m-\u001b[39m\u001b[38;5;124m\"\u001b[39m)\n\u001b[0;32m    119\u001b[0m plt\u001b[38;5;241m.\u001b[39mscatter(quantiles, [pdf_pchip(q) \u001b[38;5;28;01mfor\u001b[39;00m q \u001b[38;5;129;01min\u001b[39;00m quantiles], color\u001b[38;5;241m=\u001b[39m\u001b[38;5;124m'\u001b[39m\u001b[38;5;124mr\u001b[39m\u001b[38;5;124m'\u001b[39m, marker\u001b[38;5;241m=\u001b[39m\u001b[38;5;124m'\u001b[39m\u001b[38;5;124mx\u001b[39m\u001b[38;5;124m'\u001b[39m, label\u001b[38;5;241m=\u001b[39m\u001b[38;5;124m\"\u001b[39m\u001b[38;5;124mAkima Spline PDF at Quantiles\u001b[39m\u001b[38;5;124m\"\u001b[39m)\n",
      "\u001b[1;31mAttributeError\u001b[0m: 'list' object has no attribute 'items'"
     ]
    },
    {
     "data": {
      "text/plain": [
       "<Figure size 1100x600 with 0 Axes>"
      ]
     },
     "metadata": {},
     "output_type": "display_data"
    }
   ],
   "source": [
    "#quantiles = np.array([-2.326, -1.960, -1.645, -1.282, 0, 1.282, 1.645, 1.960,2.326])\n",
    "#probabilities = np.array([0.02, 0.05, 0.1, 0.2, 0.5, 0.8, 0.9, 0.95, 0.98])\n",
    "\n",
    "probabilities = [0.1, 0.2, 0.3, 0.4, 0.5, 0.6, 0.7, 0.8, 0.9]\n",
    "quantiles = norm.ppf(probabilities)\n",
    "\n",
    "plot_cdf_pdf(quantiles, probabilities, y_min=-3, y_max=3, log_scale=False, tail=False)\n"
   ]
  },
  {
   "cell_type": "markdown",
   "metadata": {},
   "source": [
    "## Test printout for selected value"
   ]
  },
  {
   "cell_type": "code",
   "execution_count": 130,
   "metadata": {},
   "outputs": [
    {
     "name": "stdout",
     "output_type": "stream",
     "text": [
      "Linear CDF at x = 1.5 : 0.8600550964187328\n",
      "PCHIP CDF at x = 1.5 : 0.860754147141796\n",
      "Hybrid CDF at x = 1.5 : 0.860754147141796\n",
      "Linear PDF at x = 1.5 : 0.27548209366391463\n",
      "PCHIP PDF at x = 1.5 : 0.27813056930996277\n",
      "Hybrid PDF at x = 1.5 : 0.293640606905417\n"
     ]
    }
   ],
   "source": [
    "# Example inputs\n",
    "quantiles = np.array([-2.326, -1.960, -1.645, -1.282, 0, 1.282, 1.645, 1.960,2.326])\n",
    "probabilities = np.array([0.02, 0.05, 0.1, 0.2, 0.5, 0.8, 0.9, 0.95, 0.98])\n",
    "\n",
    "# Get all CDF and PDF functions\n",
    "cdf_linear, cdf_pchip, hybrid_cdf, pdf_linear, pdf_linear2, pdf_pchip, pdf_hybrid = compute_cdf_pdf_interpolators(quantiles, probabilities)\n",
    "\n",
    "# Choose an x value\n",
    "x_value = 1.5\n",
    "\n",
    "# Compute CDF values\n",
    "print(\"Linear CDF at x =\", x_value, \":\", cdf_linear(x_value))\n",
    "print(\"PCHIP CDF at x =\", x_value, \":\", cdf_pchip(x_value))\n",
    "print(\"Hybrid CDF at x =\", x_value, \":\", hybrid_cdf(x_value))\n",
    "\n",
    "# Compute PDF values\n",
    "print(\"Linear PDF at x =\", x_value, \":\", pdf_linear(x_value))\n",
    "print(\"PCHIP PDF at x =\", x_value, \":\", pdf_pchip(x_value))\n",
    "print(\"Hybrid PDF at x =\", x_value, \":\", pdf_hybrid(x_value))\n",
    "\n"
   ]
  },
  {
   "cell_type": "markdown",
   "metadata": {},
   "source": [
    "## Test with quantiles given back by TabPFN"
   ]
  },
  {
   "cell_type": "code",
   "execution_count": 172,
   "metadata": {},
   "outputs": [],
   "source": [
    "quantiles_2 = np.array([-3.302027, -2.657532, -2.326192, -2.163070, -1.983908, -1.761671, -1.496187, -1.286693, -1.028827])\n",
    "quantiles_3 = np.array([-3.295995, -2.666942, -2.325560, -2.164748, -1.986944, -1.763564, -1.498355, -1.278293, -1.031841])\n",
    "quantiles_4 = np.array([-3.289948, -2.672929, -2.321413, -2.163413, -1.990395, -1.773206, -1.510069, -1.285333, -1.042485])\n",
    "probabilities = np.array([0.1, 0.2, 0.3, 0.4, 0.5, 0.6, 0.7, 0.8, 0.9])"
   ]
  },
  {
   "cell_type": "code",
   "execution_count": 49,
   "metadata": {},
   "outputs": [
    {
     "ename": "NameError",
     "evalue": "name 'quantiles_2' is not defined",
     "output_type": "error",
     "traceback": [
      "\u001b[1;31m---------------------------------------------------------------------------\u001b[0m",
      "\u001b[1;31mNameError\u001b[0m                                 Traceback (most recent call last)",
      "Cell \u001b[1;32mIn[49], line 1\u001b[0m\n\u001b[1;32m----> 1\u001b[0m plot_cdf_pdf(\u001b[43mquantiles_2\u001b[49m, probabilities, \u001b[38;5;241m-\u001b[39m\u001b[38;5;241m25\u001b[39m, \u001b[38;5;241m2\u001b[39m, log_scale\u001b[38;5;241m=\u001b[39m\u001b[38;5;28;01mFalse\u001b[39;00m, tail\u001b[38;5;241m=\u001b[39m\u001b[38;5;28;01mTrue\u001b[39;00m)\n",
      "\u001b[1;31mNameError\u001b[0m: name 'quantiles_2' is not defined"
     ]
    }
   ],
   "source": [
    "#plot_cdf_pdf(quantiles_2, probabilities, -25, 2, log_scale=False, tail=True)"
   ]
  },
  {
   "cell_type": "code",
   "execution_count": 161,
   "metadata": {},
   "outputs": [
    {
     "name": "stdout",
     "output_type": "stream",
     "text": [
      "Estimated Mean: -2.0006785552168824, Estimated Std Dev: 0.8557809665149574\n"
     ]
    }
   ],
   "source": [
    "from scipy.optimize import curve_fit\n",
    "\n",
    "# Define a function that maps probabilities to normal quantiles\n",
    "def normal_cdf_inverse(p, mu, sigma):\n",
    "    return norm.ppf(p, loc=mu, scale=sigma)\n",
    "\n",
    "# Fit the normal distribution\n",
    "params, _ = curve_fit(normal_cdf_inverse, probabilities, quantiles_2, p0=[0, 1])  # Initial guess: mean=0, std=1\n",
    "\n",
    "mu_fit, sigma_fit = params\n",
    "print(f\"Estimated Mean: {mu_fit}, Estimated Std Dev: {sigma_fit}\")"
   ]
  },
  {
   "cell_type": "code",
   "execution_count": null,
   "metadata": {},
   "outputs": [],
   "source": []
  }
 ],
 "metadata": {
  "kernelspec": {
   "display_name": ".venv",
   "language": "python",
   "name": "python3"
  },
  "language_info": {
   "codemirror_mode": {
    "name": "ipython",
    "version": 3
   },
   "file_extension": ".py",
   "mimetype": "text/x-python",
   "name": "python",
   "nbconvert_exporter": "python",
   "pygments_lexer": "ipython3",
   "version": "3.12.7"
  }
 },
 "nbformat": 4,
 "nbformat_minor": 2
}
