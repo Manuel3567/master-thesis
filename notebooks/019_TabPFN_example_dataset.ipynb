{
 "cells": [
  {
   "cell_type": "code",
   "execution_count": 2,
   "metadata": {},
   "outputs": [
    {
     "name": "stdout",
     "output_type": "stream",
     "text": [
      "The autoreload extension is already loaded. To reload it, use:\n",
      "  %reload_ext autoreload\n"
     ]
    }
   ],
   "source": [
    "import pandas as pd\n",
    "import numpy as np\n",
    "import matplotlib.pyplot as plt\n",
    "\n",
    "from analysis.datasets import load_entsoe\n",
    "from analysis.splits import to_train_validation_test_data\n",
    "from analysis.transformations import scale_power_data\n",
    "from tabpfn import TabPFNRegressor\n",
    "from analysis.transformations import add_interval_index, add_lagged_features\n",
    "from torchinfo import summary\n",
    "from analysis.TabPFN_copy import evaluate\n",
    "import torch\n",
    "import seaborn as sns\n",
    "from analysis.TabPFN_copy import fit_tail_distribution, plot_cdf_pdf_dynamic, plot_pdf_from_logits\n",
    "from sklearn.datasets import load_diabetes\n",
    "from sklearn.metrics import mean_absolute_error, mean_squared_error, r2_score\n",
    "from sklearn.model_selection import train_test_split\n",
    "\n",
    "%load_ext autoreload\n",
    "%autoreload 2"
   ]
  },
  {
   "cell_type": "code",
   "execution_count": 5,
   "metadata": {},
   "outputs": [
    {
     "name": "stderr",
     "output_type": "stream",
     "text": [
      "c:\\Users\\Minu\\Documents\\master-thesis\\.venv\\Lib\\site-packages\\sklearn\\base.py:474: FutureWarning: `BaseEstimator._validate_data` is deprecated in 1.6 and will be removed in 1.7. Use `sklearn.utils.validation.validate_data` instead. This function becomes public and is part of the scikit-learn developer API.\n",
      "  warnings.warn(\n",
      "c:\\Users\\Minu\\Documents\\master-thesis\\.venv\\Lib\\site-packages\\sklearn\\utils\\deprecation.py:151: FutureWarning: 'force_all_finite' was renamed to 'ensure_all_finite' in 1.6 and will be removed in 1.8.\n",
      "  warnings.warn(\n",
      "c:\\Users\\Minu\\Documents\\master-thesis\\.venv\\Lib\\site-packages\\sklearn\\utils\\deprecation.py:151: FutureWarning: 'force_all_finite' was renamed to 'ensure_all_finite' in 1.6 and will be removed in 1.8.\n",
      "  warnings.warn(\n",
      "c:\\Users\\Minu\\Documents\\master-thesis\\.venv\\Lib\\site-packages\\sklearn\\base.py:474: FutureWarning: `BaseEstimator._validate_data` is deprecated in 1.6 and will be removed in 1.7. Use `sklearn.utils.validation.validate_data` instead. This function becomes public and is part of the scikit-learn developer API.\n",
      "  warnings.warn(\n",
      "c:\\Users\\Minu\\Documents\\master-thesis\\.venv\\Lib\\site-packages\\sklearn\\utils\\deprecation.py:151: FutureWarning: 'force_all_finite' was renamed to 'ensure_all_finite' in 1.6 and will be removed in 1.8.\n",
      "  warnings.warn(\n"
     ]
    },
    {
     "name": "stdout",
     "output_type": "stream",
     "text": [
      "Mean Squared Error (MSE): 2688.2340718882\n",
      "Mean Absolute Error (MAE): 41.05663142792166\n",
      "R-squared (R^2): 0.5329083100989893\n"
     ]
    },
    {
     "name": "stderr",
     "output_type": "stream",
     "text": [
      "c:\\Users\\Minu\\Documents\\master-thesis\\.venv\\Lib\\site-packages\\sklearn\\base.py:474: FutureWarning: `BaseEstimator._validate_data` is deprecated in 1.6 and will be removed in 1.7. Use `sklearn.utils.validation.validate_data` instead. This function becomes public and is part of the scikit-learn developer API.\n",
      "  warnings.warn(\n",
      "c:\\Users\\Minu\\Documents\\master-thesis\\.venv\\Lib\\site-packages\\sklearn\\utils\\deprecation.py:151: FutureWarning: 'force_all_finite' was renamed to 'ensure_all_finite' in 1.6 and will be removed in 1.8.\n",
      "  warnings.warn(\n"
     ]
    },
    {
     "name": "stdout",
     "output_type": "stream",
     "text": [
      "Quantile 0.25 MAE: 52.732839584350586\n",
      "Quantile 0.5 MAE: 41.18152926719352\n",
      "Quantile 0.75 MAE: 49.68900293846653\n"
     ]
    },
    {
     "name": "stderr",
     "output_type": "stream",
     "text": [
      "c:\\Users\\Minu\\Documents\\master-thesis\\.venv\\Lib\\site-packages\\sklearn\\base.py:474: FutureWarning: `BaseEstimator._validate_data` is deprecated in 1.6 and will be removed in 1.7. Use `sklearn.utils.validation.validate_data` instead. This function becomes public and is part of the scikit-learn developer API.\n",
      "  warnings.warn(\n",
      "c:\\Users\\Minu\\Documents\\master-thesis\\.venv\\Lib\\site-packages\\sklearn\\utils\\deprecation.py:151: FutureWarning: 'force_all_finite' was renamed to 'ensure_all_finite' in 1.6 and will be removed in 1.8.\n",
      "  warnings.warn(\n"
     ]
    },
    {
     "name": "stdout",
     "output_type": "stream",
     "text": [
      "Mode MAE: 47.37220016897541\n"
     ]
    },
    {
     "name": "stderr",
     "output_type": "stream",
     "text": [
      "c:\\Users\\Minu\\Documents\\master-thesis\\.venv\\Lib\\site-packages\\sklearn\\base.py:474: FutureWarning: `BaseEstimator._validate_data` is deprecated in 1.6 and will be removed in 1.7. Use `sklearn.utils.validation.validate_data` instead. This function becomes public and is part of the scikit-learn developer API.\n",
      "  warnings.warn(\n",
      "c:\\Users\\Minu\\Documents\\master-thesis\\.venv\\Lib\\site-packages\\sklearn\\utils\\deprecation.py:151: FutureWarning: 'force_all_finite' was renamed to 'ensure_all_finite' in 1.6 and will be removed in 1.8.\n",
      "  warnings.warn(\n"
     ]
    }
   ],
   "source": [
    "# Load data\n",
    "X, y = load_diabetes(return_X_y=True)\n",
    "X_train, X_test, y_train, y_test = train_test_split(\n",
    "    X,\n",
    "    y,\n",
    "    test_size=0.33,\n",
    "    random_state=42,\n",
    ")\n",
    "\n",
    "# Initialize a regressor\n",
    "reg = TabPFNRegressor()\n",
    "reg.fit(X_train, y_train)\n",
    "\n",
    "# Predict a point estimate (using the mean)\n",
    "predictions = reg.predict(X_test)\n",
    "print(\"Mean Squared Error (MSE):\", mean_squared_error(y_test, predictions))\n",
    "print(\"Mean Absolute Error (MAE):\", mean_absolute_error(y_test, predictions))\n",
    "print(\"R-squared (R^2):\", r2_score(y_test, predictions))\n",
    "\n",
    "# Predict quantiles\n",
    "quantiles = [0.25, 0.5, 0.75]\n",
    "quantile_predictions = reg.predict(\n",
    "    X_test,\n",
    "    output_type=\"quantiles\",\n",
    "    quantiles=quantiles,\n",
    ")\n",
    "for q, q_pred in zip(quantiles, quantile_predictions):\n",
    "    print(f\"Quantile {q} MAE:\", mean_absolute_error(y_test, q_pred))\n",
    "\n",
    "# Predict with mode\n",
    "mode_predictions = reg.predict(X_test, output_type=\"mode\")\n",
    "print(\"Mode MAE:\", mean_absolute_error(y_test, mode_predictions))\n",
    "\n",
    "\n",
    "full_output = reg.predict(X_test, output_type=\"full\")\n",
    "logits = full_output[\"logits\"]"
   ]
  },
  {
   "cell_type": "code",
   "execution_count": 7,
   "metadata": {},
   "outputs": [
    {
     "data": {
      "text/html": [
       "<div>\n",
       "<style scoped>\n",
       "    .dataframe tbody tr th:only-of-type {\n",
       "        vertical-align: middle;\n",
       "    }\n",
       "\n",
       "    .dataframe tbody tr th {\n",
       "        vertical-align: top;\n",
       "    }\n",
       "\n",
       "    .dataframe thead th {\n",
       "        text-align: right;\n",
       "    }\n",
       "</style>\n",
       "<table border=\"1\" class=\"dataframe\">\n",
       "  <thead>\n",
       "    <tr style=\"text-align: right;\">\n",
       "      <th></th>\n",
       "      <th>0</th>\n",
       "      <th>1</th>\n",
       "      <th>2</th>\n",
       "      <th>3</th>\n",
       "      <th>4</th>\n",
       "      <th>5</th>\n",
       "      <th>6</th>\n",
       "      <th>7</th>\n",
       "      <th>8</th>\n",
       "      <th>9</th>\n",
       "      <th>...</th>\n",
       "      <th>4990</th>\n",
       "      <th>4991</th>\n",
       "      <th>4992</th>\n",
       "      <th>4993</th>\n",
       "      <th>4994</th>\n",
       "      <th>4995</th>\n",
       "      <th>4996</th>\n",
       "      <th>4997</th>\n",
       "      <th>4998</th>\n",
       "      <th>4999</th>\n",
       "    </tr>\n",
       "  </thead>\n",
       "  <tbody>\n",
       "    <tr>\n",
       "      <th>0</th>\n",
       "      <td>-inf</td>\n",
       "      <td>-24.753813</td>\n",
       "      <td>-26.840052</td>\n",
       "      <td>-27.526920</td>\n",
       "      <td>-27.048717</td>\n",
       "      <td>-27.915060</td>\n",
       "      <td>-28.355930</td>\n",
       "      <td>-28.110603</td>\n",
       "      <td>-28.154871</td>\n",
       "      <td>-28.346195</td>\n",
       "      <td>...</td>\n",
       "      <td>-inf</td>\n",
       "      <td>-inf</td>\n",
       "      <td>-inf</td>\n",
       "      <td>-inf</td>\n",
       "      <td>-inf</td>\n",
       "      <td>-inf</td>\n",
       "      <td>-inf</td>\n",
       "      <td>-inf</td>\n",
       "      <td>-inf</td>\n",
       "      <td>-16.923214</td>\n",
       "    </tr>\n",
       "    <tr>\n",
       "      <th>1</th>\n",
       "      <td>-inf</td>\n",
       "      <td>-24.014349</td>\n",
       "      <td>-25.982546</td>\n",
       "      <td>-26.688499</td>\n",
       "      <td>-26.204599</td>\n",
       "      <td>-27.129553</td>\n",
       "      <td>-27.552353</td>\n",
       "      <td>-27.279367</td>\n",
       "      <td>-27.363989</td>\n",
       "      <td>-27.436073</td>\n",
       "      <td>...</td>\n",
       "      <td>-inf</td>\n",
       "      <td>-inf</td>\n",
       "      <td>-inf</td>\n",
       "      <td>-inf</td>\n",
       "      <td>-inf</td>\n",
       "      <td>-inf</td>\n",
       "      <td>-inf</td>\n",
       "      <td>-inf</td>\n",
       "      <td>-inf</td>\n",
       "      <td>-16.769064</td>\n",
       "    </tr>\n",
       "    <tr>\n",
       "      <th>2</th>\n",
       "      <td>-inf</td>\n",
       "      <td>-24.556295</td>\n",
       "      <td>-26.661901</td>\n",
       "      <td>-27.372540</td>\n",
       "      <td>-26.920361</td>\n",
       "      <td>-27.800892</td>\n",
       "      <td>-28.254534</td>\n",
       "      <td>-28.017435</td>\n",
       "      <td>-28.072514</td>\n",
       "      <td>-28.247643</td>\n",
       "      <td>...</td>\n",
       "      <td>-inf</td>\n",
       "      <td>-inf</td>\n",
       "      <td>-inf</td>\n",
       "      <td>-inf</td>\n",
       "      <td>-inf</td>\n",
       "      <td>-inf</td>\n",
       "      <td>-inf</td>\n",
       "      <td>-inf</td>\n",
       "      <td>-inf</td>\n",
       "      <td>-16.006924</td>\n",
       "    </tr>\n",
       "    <tr>\n",
       "      <th>3</th>\n",
       "      <td>-inf</td>\n",
       "      <td>-21.530546</td>\n",
       "      <td>-23.241230</td>\n",
       "      <td>-24.265295</td>\n",
       "      <td>-23.692362</td>\n",
       "      <td>-24.750593</td>\n",
       "      <td>-25.154928</td>\n",
       "      <td>-24.818462</td>\n",
       "      <td>-24.955210</td>\n",
       "      <td>-24.765257</td>\n",
       "      <td>...</td>\n",
       "      <td>-inf</td>\n",
       "      <td>-inf</td>\n",
       "      <td>-inf</td>\n",
       "      <td>-inf</td>\n",
       "      <td>-inf</td>\n",
       "      <td>-inf</td>\n",
       "      <td>-inf</td>\n",
       "      <td>-inf</td>\n",
       "      <td>-inf</td>\n",
       "      <td>-16.230068</td>\n",
       "    </tr>\n",
       "    <tr>\n",
       "      <th>4</th>\n",
       "      <td>-inf</td>\n",
       "      <td>-25.053526</td>\n",
       "      <td>-27.213121</td>\n",
       "      <td>-27.904863</td>\n",
       "      <td>-27.449492</td>\n",
       "      <td>-28.278128</td>\n",
       "      <td>-28.761446</td>\n",
       "      <td>-28.523413</td>\n",
       "      <td>-28.538313</td>\n",
       "      <td>-28.820169</td>\n",
       "      <td>...</td>\n",
       "      <td>-inf</td>\n",
       "      <td>-inf</td>\n",
       "      <td>-inf</td>\n",
       "      <td>-inf</td>\n",
       "      <td>-inf</td>\n",
       "      <td>-inf</td>\n",
       "      <td>-inf</td>\n",
       "      <td>-inf</td>\n",
       "      <td>-inf</td>\n",
       "      <td>-16.230068</td>\n",
       "    </tr>\n",
       "    <tr>\n",
       "      <th>...</th>\n",
       "      <td>...</td>\n",
       "      <td>...</td>\n",
       "      <td>...</td>\n",
       "      <td>...</td>\n",
       "      <td>...</td>\n",
       "      <td>...</td>\n",
       "      <td>...</td>\n",
       "      <td>...</td>\n",
       "      <td>...</td>\n",
       "      <td>...</td>\n",
       "      <td>...</td>\n",
       "      <td>...</td>\n",
       "      <td>...</td>\n",
       "      <td>...</td>\n",
       "      <td>...</td>\n",
       "      <td>...</td>\n",
       "      <td>...</td>\n",
       "      <td>...</td>\n",
       "      <td>...</td>\n",
       "      <td>...</td>\n",
       "      <td>...</td>\n",
       "    </tr>\n",
       "    <tr>\n",
       "      <th>141</th>\n",
       "      <td>-inf</td>\n",
       "      <td>-24.528090</td>\n",
       "      <td>-26.501749</td>\n",
       "      <td>-27.253443</td>\n",
       "      <td>-26.767305</td>\n",
       "      <td>-27.706137</td>\n",
       "      <td>-28.130537</td>\n",
       "      <td>-27.838823</td>\n",
       "      <td>-27.935524</td>\n",
       "      <td>-27.961582</td>\n",
       "      <td>...</td>\n",
       "      <td>-inf</td>\n",
       "      <td>-inf</td>\n",
       "      <td>-inf</td>\n",
       "      <td>-inf</td>\n",
       "      <td>-inf</td>\n",
       "      <td>-inf</td>\n",
       "      <td>-inf</td>\n",
       "      <td>-inf</td>\n",
       "      <td>-inf</td>\n",
       "      <td>-16.150024</td>\n",
       "    </tr>\n",
       "    <tr>\n",
       "      <th>142</th>\n",
       "      <td>-inf</td>\n",
       "      <td>-23.792271</td>\n",
       "      <td>-25.626274</td>\n",
       "      <td>-26.430634</td>\n",
       "      <td>-25.956505</td>\n",
       "      <td>-26.937151</td>\n",
       "      <td>-27.341494</td>\n",
       "      <td>-27.024645</td>\n",
       "      <td>-27.150204</td>\n",
       "      <td>-27.060951</td>\n",
       "      <td>...</td>\n",
       "      <td>-inf</td>\n",
       "      <td>-inf</td>\n",
       "      <td>-inf</td>\n",
       "      <td>-inf</td>\n",
       "      <td>-inf</td>\n",
       "      <td>-inf</td>\n",
       "      <td>-inf</td>\n",
       "      <td>-inf</td>\n",
       "      <td>-inf</td>\n",
       "      <td>-16.412390</td>\n",
       "    </tr>\n",
       "    <tr>\n",
       "      <th>143</th>\n",
       "      <td>-inf</td>\n",
       "      <td>-24.073683</td>\n",
       "      <td>-26.254114</td>\n",
       "      <td>-27.007648</td>\n",
       "      <td>-26.601059</td>\n",
       "      <td>-27.400311</td>\n",
       "      <td>-27.982193</td>\n",
       "      <td>-27.770033</td>\n",
       "      <td>-27.756083</td>\n",
       "      <td>-28.157667</td>\n",
       "      <td>...</td>\n",
       "      <td>-inf</td>\n",
       "      <td>-inf</td>\n",
       "      <td>-inf</td>\n",
       "      <td>-inf</td>\n",
       "      <td>-inf</td>\n",
       "      <td>-inf</td>\n",
       "      <td>-inf</td>\n",
       "      <td>-inf</td>\n",
       "      <td>-inf</td>\n",
       "      <td>-16.769064</td>\n",
       "    </tr>\n",
       "    <tr>\n",
       "      <th>144</th>\n",
       "      <td>-inf</td>\n",
       "      <td>-23.390772</td>\n",
       "      <td>-25.293522</td>\n",
       "      <td>-26.106174</td>\n",
       "      <td>-25.634420</td>\n",
       "      <td>-26.615007</td>\n",
       "      <td>-27.031403</td>\n",
       "      <td>-26.725197</td>\n",
       "      <td>-26.855530</td>\n",
       "      <td>-26.807974</td>\n",
       "      <td>...</td>\n",
       "      <td>-inf</td>\n",
       "      <td>-inf</td>\n",
       "      <td>-inf</td>\n",
       "      <td>-inf</td>\n",
       "      <td>-inf</td>\n",
       "      <td>-inf</td>\n",
       "      <td>-inf</td>\n",
       "      <td>-inf</td>\n",
       "      <td>-inf</td>\n",
       "      <td>-16.006924</td>\n",
       "    </tr>\n",
       "    <tr>\n",
       "      <th>145</th>\n",
       "      <td>-inf</td>\n",
       "      <td>-24.396702</td>\n",
       "      <td>-26.359268</td>\n",
       "      <td>-27.157963</td>\n",
       "      <td>-26.665791</td>\n",
       "      <td>-27.613348</td>\n",
       "      <td>-28.056004</td>\n",
       "      <td>-27.748453</td>\n",
       "      <td>-27.846041</td>\n",
       "      <td>-27.859411</td>\n",
       "      <td>...</td>\n",
       "      <td>-inf</td>\n",
       "      <td>-inf</td>\n",
       "      <td>-inf</td>\n",
       "      <td>-inf</td>\n",
       "      <td>-inf</td>\n",
       "      <td>-inf</td>\n",
       "      <td>-inf</td>\n",
       "      <td>-inf</td>\n",
       "      <td>-inf</td>\n",
       "      <td>-16.635532</td>\n",
       "    </tr>\n",
       "  </tbody>\n",
       "</table>\n",
       "<p>146 rows × 5000 columns</p>\n",
       "</div>"
      ],
      "text/plain": [
       "     0          1          2          3          4          5          6     \\\n",
       "0    -inf -24.753813 -26.840052 -27.526920 -27.048717 -27.915060 -28.355930   \n",
       "1    -inf -24.014349 -25.982546 -26.688499 -26.204599 -27.129553 -27.552353   \n",
       "2    -inf -24.556295 -26.661901 -27.372540 -26.920361 -27.800892 -28.254534   \n",
       "3    -inf -21.530546 -23.241230 -24.265295 -23.692362 -24.750593 -25.154928   \n",
       "4    -inf -25.053526 -27.213121 -27.904863 -27.449492 -28.278128 -28.761446   \n",
       "..    ...        ...        ...        ...        ...        ...        ...   \n",
       "141  -inf -24.528090 -26.501749 -27.253443 -26.767305 -27.706137 -28.130537   \n",
       "142  -inf -23.792271 -25.626274 -26.430634 -25.956505 -26.937151 -27.341494   \n",
       "143  -inf -24.073683 -26.254114 -27.007648 -26.601059 -27.400311 -27.982193   \n",
       "144  -inf -23.390772 -25.293522 -26.106174 -25.634420 -26.615007 -27.031403   \n",
       "145  -inf -24.396702 -26.359268 -27.157963 -26.665791 -27.613348 -28.056004   \n",
       "\n",
       "          7          8          9     ...  4990  4991  4992  4993  4994  4995  \\\n",
       "0   -28.110603 -28.154871 -28.346195  ...  -inf  -inf  -inf  -inf  -inf  -inf   \n",
       "1   -27.279367 -27.363989 -27.436073  ...  -inf  -inf  -inf  -inf  -inf  -inf   \n",
       "2   -28.017435 -28.072514 -28.247643  ...  -inf  -inf  -inf  -inf  -inf  -inf   \n",
       "3   -24.818462 -24.955210 -24.765257  ...  -inf  -inf  -inf  -inf  -inf  -inf   \n",
       "4   -28.523413 -28.538313 -28.820169  ...  -inf  -inf  -inf  -inf  -inf  -inf   \n",
       "..         ...        ...        ...  ...   ...   ...   ...   ...   ...   ...   \n",
       "141 -27.838823 -27.935524 -27.961582  ...  -inf  -inf  -inf  -inf  -inf  -inf   \n",
       "142 -27.024645 -27.150204 -27.060951  ...  -inf  -inf  -inf  -inf  -inf  -inf   \n",
       "143 -27.770033 -27.756083 -28.157667  ...  -inf  -inf  -inf  -inf  -inf  -inf   \n",
       "144 -26.725197 -26.855530 -26.807974  ...  -inf  -inf  -inf  -inf  -inf  -inf   \n",
       "145 -27.748453 -27.846041 -27.859411  ...  -inf  -inf  -inf  -inf  -inf  -inf   \n",
       "\n",
       "     4996  4997  4998       4999  \n",
       "0    -inf  -inf  -inf -16.923214  \n",
       "1    -inf  -inf  -inf -16.769064  \n",
       "2    -inf  -inf  -inf -16.006924  \n",
       "3    -inf  -inf  -inf -16.230068  \n",
       "4    -inf  -inf  -inf -16.230068  \n",
       "..    ...   ...   ...        ...  \n",
       "141  -inf  -inf  -inf -16.150024  \n",
       "142  -inf  -inf  -inf -16.412390  \n",
       "143  -inf  -inf  -inf -16.769064  \n",
       "144  -inf  -inf  -inf -16.006924  \n",
       "145  -inf  -inf  -inf -16.635532  \n",
       "\n",
       "[146 rows x 5000 columns]"
      ]
     },
     "execution_count": 7,
     "metadata": {},
     "output_type": "execute_result"
    }
   ],
   "source": [
    "pd.DataFrame(logits)"
   ]
  },
  {
   "cell_type": "code",
   "execution_count": 22,
   "metadata": {},
   "outputs": [],
   "source": [
    "id = 5\n",
    "borders_q = full_output[\"criterion\"].borders\n",
    "y_validation_q_torch = torch.tensor(y_test, dtype=torch.float32)\n",
    "probs = torch.softmax(logits, dim=1)  # (N, 5000)\n",
    "cdf = torch.cumsum(probs, dim=1)  # (N, 5000)\n",
    "indicators = (borders_q[1:].unsqueeze(0) >= y_validation_q_torch.unsqueeze(1)).float()  # (N, 5000)\n",
    "bin_widths = (borders_q[1:] - borders_q[:-1]).unsqueeze(0)  # (1, 5000)\n",
    "\n",
    "# Assuming logits_2 is a tensor of shape (N, 5000)\n",
    "probs_t = torch.softmax(logits, dim=1)  # Convert logits to probabilities (N, 5000)\n",
    "probs_np = probs_t[id, :].cpu().numpy()  # Convert first sample to NumPy (1D array)"
   ]
  },
  {
   "cell_type": "code",
   "execution_count": 62,
   "metadata": {},
   "outputs": [
    {
     "data": {
      "text/plain": [
       "torch.Size([146, 5000])"
      ]
     },
     "execution_count": 62,
     "metadata": {},
     "output_type": "execute_result"
    }
   ],
   "source": [
    "cdf.shape"
   ]
  },
  {
   "cell_type": "code",
   "execution_count": null,
   "metadata": {},
   "outputs": [
    {
     "data": {
      "text/plain": [
       "torch.Size([5000])"
      ]
     },
     "execution_count": 64,
     "metadata": {},
     "output_type": "execute_result"
    }
   ],
   "source": []
  },
  {
   "cell_type": "code",
   "execution_count": 95,
   "metadata": {},
   "outputs": [
    {
     "data": {
      "text/plain": [
       "<matplotlib.legend.Legend at 0x1f2af22df40>"
      ]
     },
     "execution_count": 95,
     "metadata": {},
     "output_type": "execute_result"
    },
    {
     "data": {
      "image/png": "[encoded data removed]",
      "text/plain": [
       "<Figure size 640x480 with 1 Axes>"
      ]
     },
     "metadata": {},
     "output_type": "display_data"
    }
   ],
   "source": [
    "import scipy.interpolate as spi\n",
    "\n",
    "\n",
    "# Convert bin borders to NumPy if necessary\n",
    "borders_np = borders_q.cpu().numpy() if isinstance(borders_q, torch.Tensor) else np.array(borders_q)\n",
    "\n",
    "# Compute bin widths (size 5000)\n",
    "bin_widths = np.diff(borders_np)  # Difference between consecutive bin edges\n",
    "\n",
    "# Compute PDF values (divide probability mass by bin width)\n",
    "pdf_values = probs_np / bin_widths  # Element-wise division\n",
    "\n",
    "# Compute bin midpoints\n",
    "midpoints = (borders_np[:-1] + borders_np[1:]) / 2  # Midpoints of bins\n",
    "\n",
    "# Create an interpolation function using midpoints\n",
    "pdf_function_linear = spi.interp1d(\n",
    "midpoints, pdf_values, kind='linear', fill_value=\"extrapolate\", bounds_error=False\n",
    ")\n",
    "\n",
    "pdf_function_pchip = spi.CubicSpline(\n",
    "midpoints, pdf_values, extrapolate=True)\n",
    "\n",
    "cdf_values = cdf[id,:]\n",
    "\n",
    "cdf_function_linear = spi.interp1d(\n",
    "midpoints, cdf_values, kind='cubic', fill_value=\"extrapolate\", bounds_error=False\n",
    ")\n",
    "# Generate x values for plotting\n",
    "#x_plot = np.linspace(midpoints[0], midpoints[-1], 50000)  # Smooth x range\n",
    "x_plot = midpoints\n",
    "y_plot = pdf_function_pchip(x_plot)  # Evaluate the PDF function\n",
    "y_plot_2 = pdf_function_linear(x_plot)  # Evaluate the PDF function\n",
    "epsilon = 5\n",
    "y_plot_3 = (cdf_function_linear(x_plot + epsilon) - cdf_function_linear(x_plot + epsilon)) / (2 * epsilon)\n",
    "# Plot the PDF\n",
    "#plt.set_xlim(x_lim)  # Use externally defined limits\n",
    "#plt.set_ylim(y_lim)  \n",
    "plt.plot(x_plot, y_plot, label=\"Interpolated PDF (cubic) for 5000 logits\", color=\"blue\")\n",
    "plt.plot(x_plot, y_plot_2, label=\"Interpolated PDF (linear) for 5000 logits\", color=\"orange\")\n",
    "#plt.plot(x_plot, y_plot_3, label=\"Interpolated PDF (differentiated cdf) for 5000 logits\")\n",
    "\n",
    "case = 2\n",
    "if case == 1:\n",
    "    plt.yscale(\"log\")\n",
    "    plt.ylim(1e-5, 2e-2)\n",
    "    plt.xlim(0, 300)\n",
    "\n",
    "elif case == 2:\n",
    "    plt.yscale(\"linear\")\n",
    "    plt.xlim(150, 200)\n",
    "    plt.ylim(0, 0.004)\n",
    "\n",
    "plt.scatter(midpoints, pdf_values, color=\"red\", s=5, label=\"Original PDF Points at 5000 logits\")  \n",
    "plt.legend(loc='upper right', fontsize=8)\n"
   ]
  },
  {
   "cell_type": "markdown",
   "metadata": {},
   "source": [
    "Dies zeigt die Verteilung, die TabPFN für einen Datenpunkt eines Demodatensatzes (sklearn diabetes). Das sieht aus wie eine schmale Normalverteilung. Wenn man reinzoomt stellt man fest, dass die PDF-Werte von einem bin zum nächsten fluktuieren."
   ]
  },
  {
   "cell_type": "code",
   "execution_count": 71,
   "metadata": {},
   "outputs": [
    {
     "data": {
      "text/plain": [
       "array(0.3268156)"
      ]
     },
     "execution_count": 71,
     "metadata": {},
     "output_type": "execute_result"
    }
   ],
   "source": [
    "cdf_function_linear(70)"
   ]
  },
  {
   "cell_type": "code",
   "execution_count": 60,
   "metadata": {},
   "outputs": [
    {
     "data": {
      "text/plain": [
       "(146, 5000)"
      ]
     },
     "execution_count": 60,
     "metadata": {},
     "output_type": "execute_result"
    }
   ],
   "source": [
    "y_plot_3.shape"
   ]
  },
  {
   "cell_type": "code",
   "execution_count": 59,
   "metadata": {},
   "outputs": [
    {
     "data": {
      "text/plain": [
       "(5000,)"
      ]
     },
     "execution_count": 59,
     "metadata": {},
     "output_type": "execute_result"
    }
   ],
   "source": [
    "x_plot.shape"
   ]
  },
  {
   "cell_type": "code",
   "execution_count": null,
   "metadata": {},
   "outputs": [
    {
     "data": {
      "text/plain": [
       "<scipy.interpolate._interpolate.interp1d at 0x1f2a7791810>"
      ]
     },
     "execution_count": 56,
     "metadata": {},
     "output_type": "execute_result"
    }
   ],
   "source": [
    "cdf_function_linear = spi.interp1d(\n",
    "midpoints, cdf, kind='linear', fill_value=\"extrapolate\", bounds_error=False\n",
    ")\n",
    "\n"
   ]
  }
 ],
 "metadata": {
  "kernelspec": {
   "display_name": ".venv",
   "language": "python",
   "name": "python3"
  },
  "language_info": {
   "codemirror_mode": {
    "name": "ipython",
    "version": 3
   },
   "file_extension": ".py",
   "mimetype": "text/x-python",
   "name": "python",
   "nbconvert_exporter": "python",
   "pygments_lexer": "ipython3",
   "version": "3.12.7"
  }
 },
 "nbformat": 4,
 "nbformat_minor": 2
}
